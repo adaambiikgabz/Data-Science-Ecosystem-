{
 "cells": [
  {
   "cell_type": "markdown",
   "id": "fd45ad19-4b7b-45ba-ba50-0470f99fadfb",
   "metadata": {},
   "source": [
    "# Data Science Tools and Ecosystem"
   ]
  },
  {
   "cell_type": "markdown",
   "id": "e6644684-1035-4e2b-8b75-b278755740c9",
   "metadata": {},
   "source": [
    "In this notebook, Data Science Tools and Ecosystem are summarized."
   ]
  },
  {
   "cell_type": "markdown",
   "id": "f8f585e6-4474-4d88-b1ce-b9caac6925a7",
   "metadata": {
    "jp-MarkdownHeadingCollapsed": true,
    "tags": []
   },
   "source": [
    "**objectives:**\n",
    "\n",
    "- Data Science Tools \n",
    "- Data Science Libraries \n",
    "- Arithmetic Expressions \n"
   ]
  },
  {
   "cell_type": "markdown",
   "id": "5664eb93-8ace-48d0-9cca-019534cb3dec",
   "metadata": {},
   "source": [
    "Some of the popular languages that Data Scientists use are:Python, R, Jave ,SQL,Julia, PHP"
   ]
  },
  {
   "cell_type": "markdown",
   "id": "8e257bf8-cc16-4462-960c-a8e3f19f952f",
   "metadata": {},
   "source": [
    "Some of the commonly used libraries used by Data Scientists include:Pandas, Nympy, ggplot,"
   ]
  },
  {
   "cell_type": "markdown",
   "id": "283ff38d-7d45-45f5-b2f7-5c30b503d088",
   "metadata": {},
   "source": [
    "| Data Science Tools |\n",
    "|--------------------|\n",
    "|   Jupyter Notebook |\n",
    "|   GitHub           |\n",
    "|   R Studio         |\n",
    "\n"
   ]
  },
  {
   "cell_type": "code",
   "execution_count": null,
   "id": "680d1b45-7492-46d0-b4ad-e5cb923ec906",
   "metadata": {},
   "outputs": [],
   "source": []
  },
  {
   "cell_type": "markdown",
   "id": "74f0329c-51ee-4b8f-99de-54700428a38b",
   "metadata": {},
   "source": [
    "### Below are a few examples of evaluating arithmetic expressions in Python"
   ]
  },
  {
   "cell_type": "code",
   "execution_count": null,
   "id": "f3020c72-f8b6-4cc0-9539-2736275563ec",
   "metadata": {
    "tags": []
   },
   "outputs": [],
   "source": [
    "#This a simple arithmetic expression to mutiply then add integers"
   ]
  },
  {
   "cell_type": "code",
   "execution_count": 1,
   "id": "1218e8dc-e138-467a-b1c4-b2659b220ffb",
   "metadata": {
    "tags": []
   },
   "outputs": [
    {
     "data": {
      "text/plain": [
       "17"
      ]
     },
     "execution_count": 1,
     "metadata": {},
     "output_type": "execute_result"
    }
   ],
   "source": [
    "(3*4)+5"
   ]
  },
  {
   "cell_type": "code",
   "execution_count": null,
   "id": "a951fda0-35e4-432c-b40d-4275b8ada8c4",
   "metadata": {
    "tags": []
   },
   "outputs": [],
   "source": [
    "#This will convert 200 minutes to hours by diving by 60"
   ]
  },
  {
   "cell_type": "code",
   "execution_count": 2,
   "id": "1ded85b5-3465-42fe-88bb-5a630676f74a",
   "metadata": {
    "tags": []
   },
   "outputs": [
    {
     "data": {
      "text/plain": [
       "3.3333333333333335"
      ]
     },
     "execution_count": 2,
     "metadata": {},
     "output_type": "execute_result"
    }
   ],
   "source": [
    "200/60"
   ]
  },
  {
   "cell_type": "markdown",
   "id": "27e93afe-7282-4961-af72-c223f4f30c5f",
   "metadata": {
    "tags": []
   },
   "source": [
    "## Authur\n",
    "\n",
    "Angel Gabriel Adaambiik "
   ]
  },
  {
   "cell_type": "code",
   "execution_count": null,
   "id": "9993d3d0-791a-4fc6-94bd-c25750972c2d",
   "metadata": {},
   "outputs": [],
   "source": []
  }
 ],
 "metadata": {
  "kernelspec": {
   "display_name": "Python 3 (ipykernel)",
   "language": "python",
   "name": "python3"
  },
  "language_info": {
   "codemirror_mode": {
    "name": "ipython",
    "version": 3
   },
   "file_extension": ".py",
   "mimetype": "text/x-python",
   "name": "python",
   "nbconvert_exporter": "python",
   "pygments_lexer": "ipython3",
   "version": "3.11.4"
  }
 },
 "nbformat": 4,
 "nbformat_minor": 5
}
